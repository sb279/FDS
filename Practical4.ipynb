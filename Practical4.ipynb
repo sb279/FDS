{
  "nbformat": 4,
  "nbformat_minor": 0,
  "metadata": {
    "colab": {
      "name": "Practical4.ipynb",
      "provenance": [],
      "authorship_tag": "ABX9TyPxJtmJTA0I3V6k1f53OIP3",
      "include_colab_link": true
    },
    "kernelspec": {
      "name": "python3",
      "display_name": "Python 3"
    },
    "language_info": {
      "name": "python"
    }
  },
  "cells": [
    {
      "cell_type": "markdown",
      "metadata": {
        "id": "view-in-github",
        "colab_type": "text"
      },
      "source": [
        "<a href=\"https://colab.research.google.com/github/rohitsadula/FDS/blob/main/Practical4.ipynb\" target=\"_parent\"><img src=\"https://colab.research.google.com/assets/colab-badge.svg\" alt=\"Open In Colab\"/></a>"
      ]
    },
    {
      "cell_type": "code",
      "execution_count": 1,
      "metadata": {
        "id": "u2rK5JOeXjaH"
      },
      "outputs": [],
      "source": [
        "import matplotlib.pyplot as plt\n",
        "from IPython.display import Math, Latex\n",
        "from IPython.core.display import Image\n",
        "import numpy as np"
      ]
    },
    {
      "cell_type": "code",
      "source": [
        "import seaborn as sns\n",
        "sns.set(color_codes=True)\n",
        "sns.set(rc={'figure.figsize':(5,5)})"
      ],
      "metadata": {
        "id": "Ave5IZyRXqJr"
      },
      "execution_count": 2,
      "outputs": []
    },
    {
      "cell_type": "code",
      "source": [
        "from scipy.stats import randint\n",
        "import matplotlib.pyplot as lib\n",
        "fig,ax=plt.subplots(1,1)\n",
        "low,high=7,32\n",
        "mean,var,skew,kurt=randint.stats(low,high,moments='mvsk')\n",
        "x=np.arange(randint.ppf(0.01,low,high),\n",
        "             randint.ppf(0.99,low,high))\n",
        "ax.plot(x,randint.pmf(x,low,high), 'bo',ms=8,label='radint pmf')\n",
        "ax.vlines(x,8,randint.pmf(x,low,high),colors='b',lw=5,alpha=0.5)\n",
        "\n",
        "rv=randint(low,high)\n",
        "ax.vlines(x,0,rv.pmf(x),colors='k',linestyles='-',lw=1,label='frozen pmf')\n",
        "ax.legend(loc='best',frameon=False)\n",
        "plt.show()\n",
        "\n",
        "prob=randint.cdf(x,low,high)\n",
        "np.allclose(x,randint.ppf(prob,low,high))\n",
        "             \n",
        "r=randint.rvs(low,high,size=1000)"
      ],
      "metadata": {
        "colab": {
          "base_uri": "https://localhost:8080/",
          "height": 322
        },
        "id": "jMLC3S5qXy8L",
        "outputId": "175155e9-05cf-481b-eb74-fbc8171148e3"
      },
      "execution_count": 3,
      "outputs": [
        {
          "output_type": "display_data",
          "data": {
            "image/png": "[encoded data removed]",
            "text/plain": [
              "<Figure size 360x360 with 1 Axes>"
            ]
          },
          "metadata": {}
        }
      ]
    },
    {
      "cell_type": "code",
      "source": [
        "from scipy.stats import bernoulli\n",
        "data_bern=bernoulli.rvs(size=10000,p=0.6)"
      ],
      "metadata": {
        "id": "TX9y_nINX3hn"
      },
      "execution_count": 4,
      "outputs": []
    },
    {
      "cell_type": "code",
      "source": [
        "ax=sns.distplot (data_bern,\n",
        "                kde=False,\n",
        "                color=\"skyblue\",\n",
        "                hist_kws={\"linewidth\": 15,'alpha':1})\n",
        "ax.set(xlabel=\"Bernoulli Distribution\",ylabel='Frequency')"
      ],
      "metadata": {
        "colab": {
          "base_uri": "https://localhost:8080/",
          "height": 411
        },
        "id": "qYICmqXCX50c",
        "outputId": "0d2b2073-4400-4e2d-82a6-adc053378980"
      },
      "execution_count": 5,
      "outputs": [
        {
          "output_type": "stream",
          "name": "stderr",
          "text": [
            "/usr/local/lib/python3.7/dist-packages/seaborn/distributions.py:2619: FutureWarning: `distplot` is a deprecated function and will be removed in a future version. Please adapt your code to use either `displot` (a figure-level function with similar flexibility) or `histplot` (an axes-level function for histograms).\n",
            "  warnings.warn(msg, FutureWarning)\n"
          ]
        },
        {
          "output_type": "execute_result",
          "data": {
            "text/plain": [
              "[Text(0, 0.5, 'Frequency'), Text(0.5, 0, 'Bernoulli Distribution')]"
            ]
          },
          "metadata": {},
          "execution_count": 5
        },
        {
          "output_type": "display_data",
          "data": {
            "image/png": "[encoded data removed]",
            "text/plain": [
              "<Figure size 360x360 with 1 Axes>"
            ]
          },
          "metadata": {}
        }
      ]
    },
    {
      "cell_type": "code",
      "source": [
        "from scipy.stats import binom\n",
        "data_binom=binom.rvs(n=10,p=0.8,size=1000000)"
      ],
      "metadata": {
        "id": "uIGg8HREX9yV"
      },
      "execution_count": 6,
      "outputs": []
    },
    {
      "cell_type": "code",
      "source": [
        "ax=sns.distplot(data_binom,\n",
        "               kde=False,\n",
        "               color=\"skyblue\",\n",
        "               hist_kws={\"linewidth\": 15,'alpha':1})\n",
        "ax.set(xlabel=\"Binominal Distribution\",ylabel='Frequency')"
      ],
      "metadata": {
        "colab": {
          "base_uri": "https://localhost:8080/",
          "height": 411
        },
        "id": "Xsdkt2ekX_4Q",
        "outputId": "0d894f91-9b0a-4068-b9ac-7a6ecad549d5"
      },
      "execution_count": 7,
      "outputs": [
        {
          "output_type": "stream",
          "name": "stderr",
          "text": [
            "/usr/local/lib/python3.7/dist-packages/seaborn/distributions.py:2619: FutureWarning: `distplot` is a deprecated function and will be removed in a future version. Please adapt your code to use either `displot` (a figure-level function with similar flexibility) or `histplot` (an axes-level function for histograms).\n",
            "  warnings.warn(msg, FutureWarning)\n"
          ]
        },
        {
          "output_type": "execute_result",
          "data": {
            "text/plain": [
              "[Text(0, 0.5, 'Frequency'), Text(0.5, 0, 'Binominal Distribution')]"
            ]
          },
          "metadata": {},
          "execution_count": 7
        },
        {
          "output_type": "display_data",
          "data": {
            "image/png": "[encoded data removed]",
            "text/plain": [
              "<Figure size 360x360 with 1 Axes>"
            ]
          },
          "metadata": {}
        }
      ]
    },
    {
      "cell_type": "code",
      "source": [
        "from scipy.stats import poisson\n",
        "data_poisson=poisson.rvs(mu=3,size=100000)"
      ],
      "metadata": {
        "id": "4iu240kdYB-b"
      },
      "execution_count": 8,
      "outputs": []
    },
    {
      "cell_type": "code",
      "source": [
        "ax=sns.distplot(data_poisson,\n",
        "                bins=30,\n",
        "               kde=False,\n",
        "               color=\"skyblue\",\n",
        "               hist_kws={\"linewidth\": 15,'alpha':1})\n",
        "ax.set(xlabel=\"Poisson Distribution\",ylabel='Frequency')"
      ],
      "metadata": {
        "id": "ScUBwwdPYEJl",
        "outputId": "64902201-38a1-4a63-f849-699fbb3f917e",
        "colab": {
          "base_uri": "https://localhost:8080/",
          "height": 411
        }
      },
      "execution_count": 9,
      "outputs": [
        {
          "output_type": "stream",
          "name": "stderr",
          "text": [
            "/usr/local/lib/python3.7/dist-packages/seaborn/distributions.py:2619: FutureWarning: `distplot` is a deprecated function and will be removed in a future version. Please adapt your code to use either `displot` (a figure-level function with similar flexibility) or `histplot` (an axes-level function for histograms).\n",
            "  warnings.warn(msg, FutureWarning)\n"
          ]
        },
        {
          "output_type": "execute_result",
          "data": {
            "text/plain": [
              "[Text(0, 0.5, 'Frequency'), Text(0.5, 0, 'Poisson Distribution')]"
            ]
          },
          "metadata": {},
          "execution_count": 9
        },
        {
          "output_type": "display_data",
          "data": {
            "image/png": "[encoded data removed]",
            "text/plain": [
              "<Figure size 360x360 with 1 Axes>"
            ]
          },
          "metadata": {}
        }
      ]
    }
  ]
}