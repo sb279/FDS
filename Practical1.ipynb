{
  "nbformat": 4,
  "nbformat_minor": 0,
  "metadata": {
    "colab": {
      "name": "Practical1.ipynb",
      "provenance": [],
      "authorship_tag": "ABX9TyMI00k9+cc06zTNdbHvHQ8Y",
      "include_colab_link": true
    },
    "kernelspec": {
      "name": "python3",
      "display_name": "Python 3"
    },
    "language_info": {
      "name": "python"
    }
  },
  "cells": [
    {
      "cell_type": "markdown",
      "metadata": {
        "id": "view-in-github",
        "colab_type": "text"
      },
      "source": [
        "<a href=\"https://colab.research.google.com/github/rohitsadula/FDS/blob/main/Practical1.ipynb\" target=\"_parent\"><img src=\"https://colab.research.google.com/assets/colab-badge.svg\" alt=\"Open In Colab\"/></a>"
      ]
    },
    {
      "cell_type": "code",
      "execution_count": 1,
      "metadata": {
        "colab": {
          "base_uri": "https://localhost:8080/"
        },
        "id": "8zBHYgYNFMmV",
        "outputId": "47176f49-b135-44c4-c9db-24153f70a7c0"
      },
      "outputs": [
        {
          "output_type": "stream",
          "name": "stdout",
          "text": [
            "Collecting Xlsxwriter\n",
            "  Downloading XlsxWriter-3.0.2-py3-none-any.whl (149 kB)\n",
            "\u001b[?25l\r\u001b[K     |██▏                             | 10 kB 31.2 MB/s eta 0:00:01\r\u001b[K     |████▍                           | 20 kB 29.2 MB/s eta 0:00:01\r\u001b[K     |██████▋                         | 30 kB 19.0 MB/s eta 0:00:01\r\u001b[K     |████████▊                       | 40 kB 16.7 MB/s eta 0:00:01\r\u001b[K     |███████████                     | 51 kB 8.2 MB/s eta 0:00:01\r\u001b[K     |█████████████▏                  | 61 kB 7.9 MB/s eta 0:00:01\r\u001b[K     |███████████████▎                | 71 kB 8.3 MB/s eta 0:00:01\r\u001b[K     |█████████████████▌              | 81 kB 9.3 MB/s eta 0:00:01\r\u001b[K     |███████████████████▊            | 92 kB 9.7 MB/s eta 0:00:01\r\u001b[K     |█████████████████████▉          | 102 kB 7.7 MB/s eta 0:00:01\r\u001b[K     |████████████████████████        | 112 kB 7.7 MB/s eta 0:00:01\r\u001b[K     |██████████████████████████▎     | 122 kB 7.7 MB/s eta 0:00:01\r\u001b[K     |████████████████████████████▍   | 133 kB 7.7 MB/s eta 0:00:01\r\u001b[K     |██████████████████████████████▋ | 143 kB 7.7 MB/s eta 0:00:01\r\u001b[K     |████████████████████████████████| 149 kB 7.7 MB/s \n",
            "\u001b[?25hInstalling collected packages: Xlsxwriter\n",
            "Successfully installed Xlsxwriter-3.0.2\n"
          ]
        }
      ],
      "source": [
        "pip install Xlsxwriter"
      ]
    },
    {
      "cell_type": "code",
      "source": [
        "import pandas\n",
        "import numpy\n",
        "from xlsxwriter import Workbook\n",
        "mydict = {\"name\": [\"a\", \"b\", \"c\", \"d\", \"e\", \"f\", \"g\"],\n",
        "          \"age\": [20, 22, 21, 19, 24, 18, 17],\n",
        "          \"designation\": [\"VP\", \"CEO\", \"CFO\", \"VP\", \"VP\", \"CEO\", \"CFO\"]}\n",
        "\n",
        "pf = pandas.DataFrame(mydict)\n",
        "# print(pf)\n",
        "\n",
        "'''Converts to CSV file'''\n",
        "pf.to_csv('csv_fds')\n",
        "df_csv = pandas.read_csv('csv_fds')\n",
        "print(df_csv)\n",
        "\n",
        "'''If you don't want duplicate index'''\n",
        "pf.to_csv('csv_fds', index=False)\n",
        "df_scv2 = pandas.read_csv('csv_fds')\n",
        "print(df_scv2)\n",
        "print('\\n\\n-----------------------------------\\n')\n",
        "'''Creating whole new table '''\n",
        "names = ['himesh', 'harshal', 'vidya', 'harsh']\n",
        "grades = [76, 80, 60, 90]\n",
        "bsdegreees=[1,0,0,1]\n",
        "msdegrees=[3,4,3,3]\n",
        "phddegrees=[2,1,0,1]\n",
        "Degrees=zip(names,grades,bsdegreees,msdegrees,phddegrees)\n",
        "columns=['Names','Grades','Bachelors','Masters','PHD']\n",
        "data=pandas.DataFrame(data=Degrees,columns=columns)\n",
        "writer=pandas.ExcelWriter('Dataframe.xlsx',engine='xlsxwriter')\n",
        "data.to_excel(writer,sheet_name='Sheet1')\n",
        "writer.save()"
      ],
      "metadata": {
        "colab": {
          "base_uri": "https://localhost:8080/"
        },
        "id": "TGvL3FJXFd2E",
        "outputId": "5193b849-bde1-4bed-d522-5d712d6ad63d"
      },
      "execution_count": 2,
      "outputs": [
        {
          "output_type": "stream",
          "name": "stdout",
          "text": [
            "   Unnamed: 0 name  age designation\n",
            "0           0    a   20          VP\n",
            "1           1    b   22         CEO\n",
            "2           2    c   21         CFO\n",
            "3           3    d   19          VP\n",
            "4           4    e   24          VP\n",
            "5           5    f   18         CEO\n",
            "6           6    g   17         CFO\n",
            "  name  age designation\n",
            "0    a   20          VP\n",
            "1    b   22         CEO\n",
            "2    c   21         CFO\n",
            "3    d   19          VP\n",
            "4    e   24          VP\n",
            "5    f   18         CEO\n",
            "6    g   17         CFO\n",
            "\n",
            "\n",
            "-----------------------------------\n",
            "\n"
          ]
        }
      ]
    }
  ]
}